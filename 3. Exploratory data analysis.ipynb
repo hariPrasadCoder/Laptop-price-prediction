{
 "cells": [
  {
   "cell_type": "markdown",
   "metadata": {},
   "source": [
    "## Exploratory Data Analysis"
   ]
  },
  {
   "cell_type": "markdown",
   "metadata": {},
   "source": [
    "### Importing libraries:"
   ]
  },
  {
   "cell_type": "code",
   "execution_count": 100,
   "metadata": {},
   "outputs": [],
   "source": [
    "import pandas as pd\n",
    "import seaborn as sns\n",
    "import matplotlib.pyplot as plt\n",
    "%matplotlib inline\n",
    "import numpy as np"
   ]
  },
  {
   "cell_type": "markdown",
   "metadata": {},
   "source": [
    "### Reading the file:"
   ]
  },
  {
   "cell_type": "code",
   "execution_count": 101,
   "metadata": {},
   "outputs": [
    {
     "data": {
      "text/html": [
       "<div>\n",
       "<style scoped>\n",
       "    .dataframe tbody tr th:only-of-type {\n",
       "        vertical-align: middle;\n",
       "    }\n",
       "\n",
       "    .dataframe tbody tr th {\n",
       "        vertical-align: top;\n",
       "    }\n",
       "\n",
       "    .dataframe thead th {\n",
       "        text-align: right;\n",
       "    }\n",
       "</style>\n",
       "<table border=\"1\" class=\"dataframe\">\n",
       "  <thead>\n",
       "    <tr style=\"text-align: right;\">\n",
       "      <th></th>\n",
       "      <th>Unnamed: 0</th>\n",
       "      <th>Unnamed: 0.1</th>\n",
       "      <th>Company</th>\n",
       "      <th>Product</th>\n",
       "      <th>TypeName</th>\n",
       "      <th>Inches</th>\n",
       "      <th>ScreenResolution</th>\n",
       "      <th>Cpu</th>\n",
       "      <th>Ram_in_GB</th>\n",
       "      <th>Memory</th>\n",
       "      <th>Gpu</th>\n",
       "      <th>OpSys</th>\n",
       "      <th>Weight_in_kgs</th>\n",
       "      <th>Price_in_Rupees</th>\n",
       "    </tr>\n",
       "  </thead>\n",
       "  <tbody>\n",
       "    <tr>\n",
       "      <th>0</th>\n",
       "      <td>0</td>\n",
       "      <td>1</td>\n",
       "      <td>Apple</td>\n",
       "      <td>MacBook Pro</td>\n",
       "      <td>Ultrabook</td>\n",
       "      <td>13.3</td>\n",
       "      <td>IPS Panel Retina Display 2560x1600</td>\n",
       "      <td>Intel Core i5 2.3GHz</td>\n",
       "      <td>8</td>\n",
       "      <td>128GB SSD</td>\n",
       "      <td>Intel Iris Plus Graphics 640</td>\n",
       "      <td>macOS</td>\n",
       "      <td>1.37</td>\n",
       "      <td>115213.34</td>\n",
       "    </tr>\n",
       "    <tr>\n",
       "      <th>1</th>\n",
       "      <td>1</td>\n",
       "      <td>2</td>\n",
       "      <td>Apple</td>\n",
       "      <td>Macbook Air</td>\n",
       "      <td>Ultrabook</td>\n",
       "      <td>13.3</td>\n",
       "      <td>1440x900</td>\n",
       "      <td>Intel Core i5 1.8GHz</td>\n",
       "      <td>8</td>\n",
       "      <td>128GB Flash Storage</td>\n",
       "      <td>Intel HD Graphics 6000</td>\n",
       "      <td>macOS</td>\n",
       "      <td>1.34</td>\n",
       "      <td>77308.84</td>\n",
       "    </tr>\n",
       "    <tr>\n",
       "      <th>2</th>\n",
       "      <td>2</td>\n",
       "      <td>3</td>\n",
       "      <td>HP</td>\n",
       "      <td>250 G6</td>\n",
       "      <td>Notebook</td>\n",
       "      <td>15.6</td>\n",
       "      <td>Full HD 1920x1080</td>\n",
       "      <td>Intel Core i5 7200U 2.5GHz</td>\n",
       "      <td>8</td>\n",
       "      <td>256GB SSD</td>\n",
       "      <td>Intel HD Graphics 620</td>\n",
       "      <td>No OS</td>\n",
       "      <td>1.86</td>\n",
       "      <td>49450.00</td>\n",
       "    </tr>\n",
       "    <tr>\n",
       "      <th>3</th>\n",
       "      <td>3</td>\n",
       "      <td>4</td>\n",
       "      <td>Apple</td>\n",
       "      <td>MacBook Pro</td>\n",
       "      <td>Ultrabook</td>\n",
       "      <td>15.4</td>\n",
       "      <td>IPS Panel Retina Display 2880x1800</td>\n",
       "      <td>Intel Core i7 2.7GHz</td>\n",
       "      <td>16</td>\n",
       "      <td>512GB SSD</td>\n",
       "      <td>AMD Radeon Pro 455</td>\n",
       "      <td>macOS</td>\n",
       "      <td>1.83</td>\n",
       "      <td>218220.70</td>\n",
       "    </tr>\n",
       "    <tr>\n",
       "      <th>4</th>\n",
       "      <td>4</td>\n",
       "      <td>5</td>\n",
       "      <td>Apple</td>\n",
       "      <td>MacBook Pro</td>\n",
       "      <td>Ultrabook</td>\n",
       "      <td>13.3</td>\n",
       "      <td>IPS Panel Retina Display 2560x1600</td>\n",
       "      <td>Intel Core i5 3.1GHz</td>\n",
       "      <td>8</td>\n",
       "      <td>256GB SSD</td>\n",
       "      <td>Intel Iris Plus Graphics 650</td>\n",
       "      <td>macOS</td>\n",
       "      <td>1.37</td>\n",
       "      <td>155109.60</td>\n",
       "    </tr>\n",
       "  </tbody>\n",
       "</table>\n",
       "</div>"
      ],
      "text/plain": [
       "   Unnamed: 0  Unnamed: 0.1 Company      Product   TypeName  Inches  \\\n",
       "0           0             1   Apple  MacBook Pro  Ultrabook    13.3   \n",
       "1           1             2   Apple  Macbook Air  Ultrabook    13.3   \n",
       "2           2             3      HP       250 G6   Notebook    15.6   \n",
       "3           3             4   Apple  MacBook Pro  Ultrabook    15.4   \n",
       "4           4             5   Apple  MacBook Pro  Ultrabook    13.3   \n",
       "\n",
       "                     ScreenResolution                         Cpu  Ram_in_GB  \\\n",
       "0  IPS Panel Retina Display 2560x1600        Intel Core i5 2.3GHz          8   \n",
       "1                            1440x900        Intel Core i5 1.8GHz          8   \n",
       "2                   Full HD 1920x1080  Intel Core i5 7200U 2.5GHz          8   \n",
       "3  IPS Panel Retina Display 2880x1800        Intel Core i7 2.7GHz         16   \n",
       "4  IPS Panel Retina Display 2560x1600        Intel Core i5 3.1GHz          8   \n",
       "\n",
       "                Memory                           Gpu  OpSys  Weight_in_kgs  \\\n",
       "0            128GB SSD  Intel Iris Plus Graphics 640  macOS           1.37   \n",
       "1  128GB Flash Storage        Intel HD Graphics 6000  macOS           1.34   \n",
       "2            256GB SSD         Intel HD Graphics 620  No OS           1.86   \n",
       "3            512GB SSD            AMD Radeon Pro 455  macOS           1.83   \n",
       "4            256GB SSD  Intel Iris Plus Graphics 650  macOS           1.37   \n",
       "\n",
       "   Price_in_Rupees  \n",
       "0        115213.34  \n",
       "1         77308.84  \n",
       "2         49450.00  \n",
       "3        218220.70  \n",
       "4        155109.60  "
      ]
     },
     "execution_count": 101,
     "metadata": {},
     "output_type": "execute_result"
    }
   ],
   "source": [
    "df = pd.read_csv('cleaned_laptops.csv')\n",
    "df.head()"
   ]
  },
  {
   "cell_type": "markdown",
   "metadata": {},
   "source": [
    "### Checking Co-relations:"
   ]
  },
  {
   "cell_type": "code",
   "execution_count": 102,
   "metadata": {},
   "outputs": [
    {
     "data": {
      "text/html": [
       "<div>\n",
       "<style scoped>\n",
       "    .dataframe tbody tr th:only-of-type {\n",
       "        vertical-align: middle;\n",
       "    }\n",
       "\n",
       "    .dataframe tbody tr th {\n",
       "        vertical-align: top;\n",
       "    }\n",
       "\n",
       "    .dataframe thead th {\n",
       "        text-align: right;\n",
       "    }\n",
       "</style>\n",
       "<table border=\"1\" class=\"dataframe\">\n",
       "  <thead>\n",
       "    <tr style=\"text-align: right;\">\n",
       "      <th></th>\n",
       "      <th>Inches</th>\n",
       "      <th>Weight_in_kgs</th>\n",
       "      <th>Ram_in_GB</th>\n",
       "      <th>Price_in_Rupees</th>\n",
       "    </tr>\n",
       "  </thead>\n",
       "  <tbody>\n",
       "    <tr>\n",
       "      <th>Inches</th>\n",
       "      <td>1.000000</td>\n",
       "      <td>0.827631</td>\n",
       "      <td>0.237993</td>\n",
       "      <td>0.068197</td>\n",
       "    </tr>\n",
       "    <tr>\n",
       "      <th>Weight_in_kgs</th>\n",
       "      <td>0.827631</td>\n",
       "      <td>1.000000</td>\n",
       "      <td>0.383874</td>\n",
       "      <td>0.210370</td>\n",
       "    </tr>\n",
       "    <tr>\n",
       "      <th>Ram_in_GB</th>\n",
       "      <td>0.237993</td>\n",
       "      <td>0.383874</td>\n",
       "      <td>1.000000</td>\n",
       "      <td>0.743007</td>\n",
       "    </tr>\n",
       "    <tr>\n",
       "      <th>Price_in_Rupees</th>\n",
       "      <td>0.068197</td>\n",
       "      <td>0.210370</td>\n",
       "      <td>0.743007</td>\n",
       "      <td>1.000000</td>\n",
       "    </tr>\n",
       "  </tbody>\n",
       "</table>\n",
       "</div>"
      ],
      "text/plain": [
       "                   Inches  Weight_in_kgs  Ram_in_GB  Price_in_Rupees\n",
       "Inches           1.000000       0.827631   0.237993         0.068197\n",
       "Weight_in_kgs    0.827631       1.000000   0.383874         0.210370\n",
       "Ram_in_GB        0.237993       0.383874   1.000000         0.743007\n",
       "Price_in_Rupees  0.068197       0.210370   0.743007         1.000000"
      ]
     },
     "execution_count": 102,
     "metadata": {},
     "output_type": "execute_result"
    }
   ],
   "source": [
    "df[['Inches','Weight_in_kgs','Ram_in_GB','Price_in_Rupees']].corr()"
   ]
  },
  {
   "cell_type": "markdown",
   "metadata": {},
   "source": [
    "### Weight vs Price:"
   ]
  },
  {
   "cell_type": "code",
   "execution_count": 103,
   "metadata": {},
   "outputs": [
    {
     "data": {
      "text/plain": [
       "<matplotlib.axes._subplots.AxesSubplot at 0x1ae3f4dc348>"
      ]
     },
     "execution_count": 103,
     "metadata": {},
     "output_type": "execute_result"
    },
    {
     "data": {
      "image/png": "[encoded data removed]",
      "text/plain": [
       "<Figure size 432x288 with 1 Axes>"
      ]
     },
     "metadata": {
      "needs_background": "light"
     },
     "output_type": "display_data"
    }
   ],
   "source": [
    "sns.regplot(x='Weight_in_kgs',y='Price_in_Rupees',data=df)\n"
   ]
  },
  {
   "cell_type": "markdown",
   "metadata": {},
   "source": [
    "### Inches vs Price:"
   ]
  },
  {
   "cell_type": "code",
   "execution_count": 104,
   "metadata": {},
   "outputs": [
    {
     "data": {
      "text/plain": [
       "<matplotlib.axes._subplots.AxesSubplot at 0x1ae3f5662c8>"
      ]
     },
     "execution_count": 104,
     "metadata": {},
     "output_type": "execute_result"
    },
    {
     "data": {
      "image/png": "[encoded data removed]",
      "text/plain": [
       "<Figure size 432x288 with 1 Axes>"
      ]
     },
     "metadata": {
      "needs_background": "light"
     },
     "output_type": "display_data"
    }
   ],
   "source": [
    "sns.regplot(x='Inches',y='Price_in_Rupees',data=df)"
   ]
  },
  {
   "cell_type": "markdown",
   "metadata": {},
   "source": [
    "### RAM vs Price:"
   ]
  },
  {
   "cell_type": "code",
   "execution_count": 105,
   "metadata": {},
   "outputs": [
    {
     "data": {
      "text/plain": [
       "<matplotlib.axes._subplots.AxesSubplot at 0x1ae3f5bae48>"
      ]
     },
     "execution_count": 105,
     "metadata": {},
     "output_type": "execute_result"
    },
    {
     "data": {
      "image/png": "[encoded data removed]",
      "text/plain": [
       "<Figure size 432x288 with 1 Axes>"
      ]
     },
     "metadata": {
      "needs_background": "light"
     },
     "output_type": "display_data"
    }
   ],
   "source": [
    "sns.boxplot(x='Ram_in_GB',y='Price_in_Rupees',data=df)"
   ]
  },
  {
   "cell_type": "markdown",
   "metadata": {},
   "source": [
    "### Creating new table incl. 'Company','TypeName' & 'Price':"
   ]
  },
  {
   "cell_type": "code",
   "execution_count": 106,
   "metadata": {},
   "outputs": [],
   "source": [
    "df_company_wise = df[['Company','TypeName','Price_in_Rupees']]\n",
    "comp_and_type = df_company_wise.groupby(['Company','TypeName'],as_index=False).mean()"
   ]
  },
  {
   "cell_type": "markdown",
   "metadata": {},
   "source": [
    "### Pivot table ('Company' & 'TypeName') vs 'Price':"
   ]
  },
  {
   "cell_type": "code",
   "execution_count": 109,
   "metadata": {},
   "outputs": [
    {
     "data": {
      "text/html": [
       "<div>\n",
       "<style scoped>\n",
       "    .dataframe tbody tr th:only-of-type {\n",
       "        vertical-align: middle;\n",
       "    }\n",
       "\n",
       "    .dataframe tbody tr th {\n",
       "        vertical-align: top;\n",
       "    }\n",
       "\n",
       "    .dataframe thead tr th {\n",
       "        text-align: left;\n",
       "    }\n",
       "\n",
       "    .dataframe thead tr:last-of-type th {\n",
       "        text-align: right;\n",
       "    }\n",
       "</style>\n",
       "<table border=\"1\" class=\"dataframe\">\n",
       "  <thead>\n",
       "    <tr>\n",
       "      <th></th>\n",
       "      <th colspan=\"6\" halign=\"left\">Price_in_Rupees</th>\n",
       "    </tr>\n",
       "    <tr>\n",
       "      <th>TypeName</th>\n",
       "      <th>2 in 1 Convertible</th>\n",
       "      <th>Gaming</th>\n",
       "      <th>Netbook</th>\n",
       "      <th>Notebook</th>\n",
       "      <th>Ultrabook</th>\n",
       "      <th>Workstation</th>\n",
       "    </tr>\n",
       "    <tr>\n",
       "      <th>Company</th>\n",
       "      <th></th>\n",
       "      <th></th>\n",
       "      <th></th>\n",
       "      <th></th>\n",
       "      <th></th>\n",
       "      <th></th>\n",
       "    </tr>\n",
       "  </thead>\n",
       "  <tbody>\n",
       "    <tr>\n",
       "      <th>Acer</th>\n",
       "      <td>60092.607500</td>\n",
       "      <td>126258.750000</td>\n",
       "      <td>26316.000000</td>\n",
       "      <td>46452.017949</td>\n",
       "      <td>76583.000000</td>\n",
       "      <td>0.000000</td>\n",
       "    </tr>\n",
       "    <tr>\n",
       "      <th>Apple</th>\n",
       "      <td>0.000000</td>\n",
       "      <td>0.000000</td>\n",
       "      <td>0.000000</td>\n",
       "      <td>0.000000</td>\n",
       "      <td>134521.077143</td>\n",
       "      <td>0.000000</td>\n",
       "    </tr>\n",
       "    <tr>\n",
       "      <th>Asus</th>\n",
       "      <td>83969.143077</td>\n",
       "      <td>147920.461852</td>\n",
       "      <td>22893.200000</td>\n",
       "      <td>53930.805373</td>\n",
       "      <td>110960.640000</td>\n",
       "      <td>0.000000</td>\n",
       "    </tr>\n",
       "    <tr>\n",
       "      <th>Chuwi</th>\n",
       "      <td>0.000000</td>\n",
       "      <td>0.000000</td>\n",
       "      <td>0.000000</td>\n",
       "      <td>27029.513333</td>\n",
       "      <td>0.000000</td>\n",
       "      <td>0.000000</td>\n",
       "    </tr>\n",
       "    <tr>\n",
       "      <th>Dell</th>\n",
       "      <td>97323.648667</td>\n",
       "      <td>164981.798000</td>\n",
       "      <td>44677.000000</td>\n",
       "      <td>74902.836242</td>\n",
       "      <td>127100.751429</td>\n",
       "      <td>190848.541818</td>\n",
       "    </tr>\n",
       "    <tr>\n",
       "      <th>Fujitsu</th>\n",
       "      <td>0.000000</td>\n",
       "      <td>0.000000</td>\n",
       "      <td>0.000000</td>\n",
       "      <td>62694.000000</td>\n",
       "      <td>0.000000</td>\n",
       "      <td>0.000000</td>\n",
       "    </tr>\n",
       "    <tr>\n",
       "      <th>Google</th>\n",
       "      <td>0.000000</td>\n",
       "      <td>0.000000</td>\n",
       "      <td>0.000000</td>\n",
       "      <td>0.000000</td>\n",
       "      <td>144279.333333</td>\n",
       "      <td>0.000000</td>\n",
       "    </tr>\n",
       "    <tr>\n",
       "      <th>HP</th>\n",
       "      <td>129585.660000</td>\n",
       "      <td>122471.166667</td>\n",
       "      <td>86573.333333</td>\n",
       "      <td>70229.894891</td>\n",
       "      <td>132194.087778</td>\n",
       "      <td>197772.664286</td>\n",
       "    </tr>\n",
       "    <tr>\n",
       "      <th>Huawei</th>\n",
       "      <td>0.000000</td>\n",
       "      <td>0.000000</td>\n",
       "      <td>0.000000</td>\n",
       "      <td>0.000000</td>\n",
       "      <td>122464.000000</td>\n",
       "      <td>0.000000</td>\n",
       "    </tr>\n",
       "    <tr>\n",
       "      <th>LG</th>\n",
       "      <td>0.000000</td>\n",
       "      <td>0.000000</td>\n",
       "      <td>0.000000</td>\n",
       "      <td>0.000000</td>\n",
       "      <td>180514.000000</td>\n",
       "      <td>0.000000</td>\n",
       "    </tr>\n",
       "    <tr>\n",
       "      <th>Lenovo</th>\n",
       "      <td>128195.685000</td>\n",
       "      <td>114291.258750</td>\n",
       "      <td>63274.500000</td>\n",
       "      <td>67866.861348</td>\n",
       "      <td>154363.064516</td>\n",
       "      <td>204766.000000</td>\n",
       "    </tr>\n",
       "    <tr>\n",
       "      <th>MSI</th>\n",
       "      <td>0.000000</td>\n",
       "      <td>148686.100741</td>\n",
       "      <td>0.000000</td>\n",
       "      <td>0.000000</td>\n",
       "      <td>0.000000</td>\n",
       "      <td>0.000000</td>\n",
       "    </tr>\n",
       "    <tr>\n",
       "      <th>Mediacom</th>\n",
       "      <td>25714.000000</td>\n",
       "      <td>0.000000</td>\n",
       "      <td>0.000000</td>\n",
       "      <td>25312.666667</td>\n",
       "      <td>0.000000</td>\n",
       "      <td>0.000000</td>\n",
       "    </tr>\n",
       "    <tr>\n",
       "      <th>Microsoft</th>\n",
       "      <td>0.000000</td>\n",
       "      <td>0.000000</td>\n",
       "      <td>0.000000</td>\n",
       "      <td>0.000000</td>\n",
       "      <td>138658.516667</td>\n",
       "      <td>0.000000</td>\n",
       "    </tr>\n",
       "    <tr>\n",
       "      <th>Razer</th>\n",
       "      <td>0.000000</td>\n",
       "      <td>354234.000000</td>\n",
       "      <td>0.000000</td>\n",
       "      <td>0.000000</td>\n",
       "      <td>121604.000000</td>\n",
       "      <td>0.000000</td>\n",
       "    </tr>\n",
       "    <tr>\n",
       "      <th>Samsung</th>\n",
       "      <td>105694.000000</td>\n",
       "      <td>0.000000</td>\n",
       "      <td>23134.000000</td>\n",
       "      <td>146114.000000</td>\n",
       "      <td>142674.000000</td>\n",
       "      <td>0.000000</td>\n",
       "    </tr>\n",
       "    <tr>\n",
       "      <th>Toshiba</th>\n",
       "      <td>0.000000</td>\n",
       "      <td>0.000000</td>\n",
       "      <td>0.000000</td>\n",
       "      <td>95374.000000</td>\n",
       "      <td>150005.500000</td>\n",
       "      <td>0.000000</td>\n",
       "    </tr>\n",
       "    <tr>\n",
       "      <th>Vero</th>\n",
       "      <td>0.000000</td>\n",
       "      <td>0.000000</td>\n",
       "      <td>0.000000</td>\n",
       "      <td>18698.550000</td>\n",
       "      <td>0.000000</td>\n",
       "      <td>0.000000</td>\n",
       "    </tr>\n",
       "    <tr>\n",
       "      <th>Xiaomi</th>\n",
       "      <td>0.000000</td>\n",
       "      <td>0.000000</td>\n",
       "      <td>0.000000</td>\n",
       "      <td>111754.850000</td>\n",
       "      <td>83200.700000</td>\n",
       "      <td>0.000000</td>\n",
       "    </tr>\n",
       "  </tbody>\n",
       "</table>\n",
       "</div>"
      ],
      "text/plain": [
       "             Price_in_Rupees                                              \\\n",
       "TypeName  2 in 1 Convertible         Gaming       Netbook       Notebook   \n",
       "Company                                                                    \n",
       "Acer            60092.607500  126258.750000  26316.000000   46452.017949   \n",
       "Apple               0.000000       0.000000      0.000000       0.000000   \n",
       "Asus            83969.143077  147920.461852  22893.200000   53930.805373   \n",
       "Chuwi               0.000000       0.000000      0.000000   27029.513333   \n",
       "Dell            97323.648667  164981.798000  44677.000000   74902.836242   \n",
       "Fujitsu             0.000000       0.000000      0.000000   62694.000000   \n",
       "Google              0.000000       0.000000      0.000000       0.000000   \n",
       "HP             129585.660000  122471.166667  86573.333333   70229.894891   \n",
       "Huawei              0.000000       0.000000      0.000000       0.000000   \n",
       "LG                  0.000000       0.000000      0.000000       0.000000   \n",
       "Lenovo         128195.685000  114291.258750  63274.500000   67866.861348   \n",
       "MSI                 0.000000  148686.100741      0.000000       0.000000   \n",
       "Mediacom        25714.000000       0.000000      0.000000   25312.666667   \n",
       "Microsoft           0.000000       0.000000      0.000000       0.000000   \n",
       "Razer               0.000000  354234.000000      0.000000       0.000000   \n",
       "Samsung        105694.000000       0.000000  23134.000000  146114.000000   \n",
       "Toshiba             0.000000       0.000000      0.000000   95374.000000   \n",
       "Vero                0.000000       0.000000      0.000000   18698.550000   \n",
       "Xiaomi              0.000000       0.000000      0.000000  111754.850000   \n",
       "\n",
       "                                         \n",
       "TypeName       Ultrabook    Workstation  \n",
       "Company                                  \n",
       "Acer        76583.000000       0.000000  \n",
       "Apple      134521.077143       0.000000  \n",
       "Asus       110960.640000       0.000000  \n",
       "Chuwi           0.000000       0.000000  \n",
       "Dell       127100.751429  190848.541818  \n",
       "Fujitsu         0.000000       0.000000  \n",
       "Google     144279.333333       0.000000  \n",
       "HP         132194.087778  197772.664286  \n",
       "Huawei     122464.000000       0.000000  \n",
       "LG         180514.000000       0.000000  \n",
       "Lenovo     154363.064516  204766.000000  \n",
       "MSI             0.000000       0.000000  \n",
       "Mediacom        0.000000       0.000000  \n",
       "Microsoft  138658.516667       0.000000  \n",
       "Razer      121604.000000       0.000000  \n",
       "Samsung    142674.000000       0.000000  \n",
       "Toshiba    150005.500000       0.000000  \n",
       "Vero            0.000000       0.000000  \n",
       "Xiaomi      83200.700000       0.000000  "
      ]
     },
     "execution_count": 109,
     "metadata": {},
     "output_type": "execute_result"
    }
   ],
   "source": [
    "pivoted_comp_and_type = comp_and_type.pivot(index='Company',columns='TypeName')\n",
    "pivoted_comp_and_type = pivoted_comp_and_type.replace(np.nan,'0').astype(float)\n",
    "pivoted_comp_and_type"
   ]
  },
  {
   "cell_type": "markdown",
   "metadata": {},
   "source": [
    "### Heat map ('Company' & 'TypeName') vs 'Price':"
   ]
  },
  {
   "cell_type": "code",
   "execution_count": 118,
   "metadata": {},
   "outputs": [
    {
     "data": {
      "image/png": "[encoded data removed]",
      "text/plain": [
       "<Figure size 432x288 with 2 Axes>"
      ]
     },
     "metadata": {
      "needs_background": "light"
     },
     "output_type": "display_data"
    }
   ],
   "source": [
    "fig, ax = plt.subplots()\n",
    "im = ax.pcolor(pivoted_comp_and_type, cmap='Accent')\n",
    "#label names\n",
    "row_labels = pivoted_comp_and_type.columns.levels[1]\n",
    "col_labels = pivoted_comp_and_type.index\n",
    "#move ticks and labels to the center\n",
    "ax.set_xticks(np.arange(pivoted_comp_and_type.shape[1]) + 0.5, minor=False)\n",
    "ax.set_yticks(np.arange(pivoted_comp_and_type.shape[0]) + 0.5, minor=False)\n",
    "#insert labels\n",
    "ax.set_xticklabels(row_labels, minor=False)\n",
    "ax.set_yticklabels(col_labels, minor=False)\n",
    "#rotate label if too long\n",
    "plt.xticks(rotation=90)\n",
    "fig.colorbar(im)\n",
    "plt.show()"
   ]
  },
  {
   "cell_type": "code",
   "execution_count": null,
   "metadata": {},
   "outputs": [],
   "source": []
  }
 ],
 "metadata": {
  "kernelspec": {
   "display_name": "Python 3",
   "language": "python",
   "name": "python3"
  },
  "language_info": {
   "codemirror_mode": {
    "name": "ipython",
    "version": 3
   },
   "file_extension": ".py",
   "mimetype": "text/x-python",
   "name": "python",
   "nbconvert_exporter": "python",
   "pygments_lexer": "ipython3",
   "version": "3.7.6"
  },
  "toc": {
   "base_numbering": 1,
   "nav_menu": {},
   "number_sections": true,
   "sideBar": true,
   "skip_h1_title": false,
   "title_cell": "Table of Contents",
   "title_sidebar": "Contents",
   "toc_cell": false,
   "toc_position": {},
   "toc_section_display": true,
   "toc_window_display": false
  }
 },
 "nbformat": 4,
 "nbformat_minor": 4
}
